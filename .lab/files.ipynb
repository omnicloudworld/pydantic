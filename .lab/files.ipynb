{
 "cells": [
  {
   "cell_type": "code",
   "execution_count": 31,
   "metadata": {},
   "outputs": [],
   "source": [
    "from datetime import datetime as dt\n",
    "\n",
    "from ipaddress import IPv4Address\n",
    "\n",
    "from pydantic import BaseModel\n",
    "from skyant.data.entity import files\n",
    "\n",
    "\n",
    "class Nested(BaseModel):\n",
    "    id: str\n",
    "    name: str\n",
    "    ip: IPv4Address = '127.0.0.1'\n",
    "\n",
    "\n",
    "class Test(BaseModel):\n",
    "    date: dt = dt.now()\n",
    "    nested: Nested\n",
    "    "
   ]
  },
  {
   "cell_type": "code",
   "execution_count": 32,
   "metadata": {},
   "outputs": [],
   "source": [
    "test = Test(\n",
    "    nested=Nested(id='2ww2', name='N')\n",
    ")"
   ]
  },
  {
   "cell_type": "code",
   "execution_count": 39,
   "metadata": {},
   "outputs": [
    {
     "data": {
      "text/plain": [
       "__main__.Test"
      ]
     },
     "execution_count": 39,
     "metadata": {},
     "output_type": "execute_result"
    }
   ],
   "source": [
    "type(test)"
   ]
  },
  {
   "cell_type": "code",
   "execution_count": 17,
   "metadata": {},
   "outputs": [],
   "source": [
    "test.save_local('.lab/new-folder/test.json')\n",
    "test.save_local('.lab/new-folder/unset.json', exclude_unset=False)\n",
    "\n",
    "test.save_local('.lab/new-folder/test.yaml')\n",
    "test.save_local('.lab/new-folder/test.yml', exclude_unset=False)"
   ]
  },
  {
   "cell_type": "code",
   "execution_count": 21,
   "metadata": {},
   "outputs": [],
   "source": [
    "loaded1 = Test.load_local('.lab/new-folder/test.json')\n",
    "loaded2 = Test.load_local('.lab/new-folder/unset.json')\n",
    "\n",
    "loaded3 = Test.load_local('.lab/new-folder/test.yaml')\n",
    "loaded4 = Test.load_local('.lab/new-folder/test.yml')"
   ]
  },
  {
   "cell_type": "code",
   "execution_count": 40,
   "metadata": {},
   "outputs": [
    {
     "data": {
      "text/plain": [
       "__main__.Test"
      ]
     },
     "execution_count": 40,
     "metadata": {},
     "output_type": "execute_result"
    }
   ],
   "source": [
    "type(loaded1)"
   ]
  }
 ],
 "metadata": {
  "kernelspec": {
   "display_name": "Python 3.10.5 ('dev': venv)",
   "language": "python",
   "name": "python3"
  },
  "language_info": {
   "codemirror_mode": {
    "name": "ipython",
    "version": 3
   },
   "file_extension": ".py",
   "mimetype": "text/x-python",
   "name": "python",
   "nbconvert_exporter": "python",
   "pygments_lexer": "ipython3",
   "version": "3.10.5"
  },
  "orig_nbformat": 4,
  "vscode": {
   "interpreter": {
    "hash": "43b42d07d062cc5a56abe760035412ea5bb9dcc072acc09456829866262b98e7"
   }
  }
 },
 "nbformat": 4,
 "nbformat_minor": 2
}
