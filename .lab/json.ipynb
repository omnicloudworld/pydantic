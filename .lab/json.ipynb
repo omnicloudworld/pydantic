{
 "cells": [
  {
   "cell_type": "code",
   "execution_count": 1,
   "metadata": {},
   "outputs": [],
   "source": [
    "import json\n",
    "from pydantic import AnyHttpUrl, BaseModel, IPvAnyAddress\n",
    "\n",
    "\n",
    "class Model(BaseModel):\n",
    "    s1: str"
   ]
  },
  {
   "cell_type": "code",
   "execution_count": 19,
   "metadata": {},
   "outputs": [
    {
     "name": "stdout",
     "output_type": "stream",
     "text": [
      "{'s1': '33'}\n",
      "{'s1': '33'}\n",
      "{'s1': '33'}\n"
     ]
    }
   ],
   "source": [
    "z = Model(s1='33')\n",
    "\n",
    "print(z.dict())\n",
    "\n",
    "z.Config.json_encoders = {str: lambda x: f'-- {x} --'}\n",
    "print(z.dict())\n",
    "\n",
    "\n",
    "Model.Config.json_encoders = {str: lambda x: f'-- {x} --'}\n",
    "s = Model(s1='33')\n",
    "print(s.dict())\n"
   ]
  }
 ],
 "metadata": {
  "kernelspec": {
   "display_name": "Python 3.10.4 64-bit",
   "language": "python",
   "name": "python3"
  },
  "language_info": {
   "codemirror_mode": {
    "name": "ipython",
    "version": 3
   },
   "file_extension": ".py",
   "mimetype": "text/x-python",
   "name": "python",
   "nbconvert_exporter": "python",
   "pygments_lexer": "ipython3",
   "version": "3.10.6"
  },
  "orig_nbformat": 4,
  "vscode": {
   "interpreter": {
    "hash": "949777d72b0d2535278d3dc13498b2535136f6dfe0678499012e853ee9abcab1"
   }
  }
 },
 "nbformat": 4,
 "nbformat_minor": 2
}
