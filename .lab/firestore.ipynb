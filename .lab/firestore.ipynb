{
 "cells": [
  {
   "cell_type": "code",
   "execution_count": 1,
   "metadata": {},
   "outputs": [],
   "source": [
    "from skyant.datager import Firestore, fields\n",
    "from typing import Generic\n",
    "from pydantic import BaseModel, Field"
   ]
  },
  {
   "cell_type": "code",
   "execution_count": 2,
   "metadata": {},
   "outputs": [],
   "source": [
    "class Dd(Firestore):\n",
    "    id: str\n",
    "    ref: fields.FirestoreRef\n",
    "\n",
    "class Zz(Firestore):\n",
    "    id: str\n",
    "    ls: list[str]\n",
    "    d1: Dd\n",
    "    d2: list[Dd]\n",
    "\n",
    "t = Zz(\n",
    "    id='xx',\n",
    "    ls=['xx', 'xxx'],\n",
    "    d1={'id': '3r', 'ref': 'zzx/ass'},\n",
    "    d2=[\n",
    "        {'id': '6r', 'ref': 'zzx/ass'},\n",
    "        {'id': '8r', 'ref': 'zzx/ass'}\n",
    "    ]\n",
    ")"
   ]
  },
  {
   "cell_type": "code",
   "execution_count": null,
   "metadata": {},
   "outputs": [],
   "source": [
    "t.save_firestore('zzz/zZz', overwrite=True)"
   ]
  },
  {
   "cell_type": "code",
   "execution_count": 4,
   "metadata": {},
   "outputs": [
    {
     "name": "stderr",
     "output_type": "stream",
     "text": [
      "I1004 12:19:58.539800453    2402 ev_epoll1_linux.cc:121]     grpc epoll fd: 69\n",
      "D1004 12:19:58.539845163    2402 ev_posix.cc:141]            Using polling engine: epoll1\n",
      "D1004 12:19:58.539902193    2402 lb_policy_registry.cc:43]   registering LB policy factory for \"grpclb\"\n",
      "D1004 12:19:58.539916833    2402 lb_policy_registry.cc:43]   registering LB policy factory for \"rls_experimental\"\n",
      "D1004 12:19:58.539924543    2402 lb_policy_registry.cc:43]   registering LB policy factory for \"priority_experimental\"\n",
      "D1004 12:19:58.539932253    2402 lb_policy_registry.cc:43]   registering LB policy factory for \"weighted_target_experimental\"\n",
      "D1004 12:19:58.539934513    2402 lb_policy_registry.cc:43]   registering LB policy factory for \"pick_first\"\n",
      "D1004 12:19:58.539938313    2402 lb_policy_registry.cc:43]   registering LB policy factory for \"round_robin\"\n",
      "D1004 12:19:58.539940553    2402 lb_policy_registry.cc:43]   registering LB policy factory for \"ring_hash_experimental\"\n",
      "D1004 12:19:58.539946723    2402 dns_resolver_ares.cc:831]   Using ares dns resolver\n",
      "D1004 12:19:58.539982003    2402 certificate_provider_registry.cc:39] registering certificate provider factory for \"file_watcher\"\n",
      "D1004 12:19:58.539989983    2402 lb_policy_registry.cc:43]   registering LB policy factory for \"cds_experimental\"\n",
      "D1004 12:19:58.539998753    2402 lb_policy_registry.cc:43]   registering LB policy factory for \"xds_cluster_impl_experimental\"\n",
      "D1004 12:19:58.540007403    2402 lb_policy_registry.cc:43]   registering LB policy factory for \"xds_cluster_resolver_experimental\"\n",
      "D1004 12:19:58.540010773    2402 lb_policy_registry.cc:43]   registering LB policy factory for \"xds_cluster_manager_experimental\"\n",
      "E1004 12:19:58.540018913    2402 trace.cc:66]                Unknown trace var: 'server_chanel'\n",
      "I1004 12:19:58.554887129    2734 socket_utils_common_posix.cc:353] TCP_USER_TIMEOUT is available. TCP_USER_TIMEOUT will be used thereafter\n",
      "I1004 12:19:58.555794979    2734 executor.cc:294]            EXECUTOR (default-executor) try to schedule 0x7ffac41183d0 (short) to thread 0\n",
      "I1004 12:19:58.555841969    2731 executor.cc:243]            EXECUTOR (default-executor) [0]: execute\n",
      "I1004 12:19:58.555859289    2731 executor.cc:122]            EXECUTOR (default-executor) run 0x7ffac41183d0\n",
      "I1004 12:19:58.555911139    2731 executor.cc:222]            EXECUTOR (default-executor) [0]: step (sub_depth=1)\n",
      "I1004 12:19:59.283607537    2402 executor.cc:294]            EXECUTOR (default-executor) try to schedule 0x7ffac4130af0 (short) to thread 0\n",
      "I1004 12:19:59.283654827    2731 executor.cc:243]            EXECUTOR (default-executor) [0]: execute\n",
      "I1004 12:19:59.283664487    2731 executor.cc:122]            EXECUTOR (default-executor) run 0x7ffac4130af0\n",
      "I1004 12:19:59.283728117    2731 executor.cc:222]            EXECUTOR (default-executor) [0]: step (sub_depth=1)\n",
      "D1004 12:19:59.439194494    2402 init.cc:215]                grpc_shutdown starts clean-up now\n",
      "I1004 12:19:59.439397784    2402 executor.cc:397]            EXECUTOR Executor::ShutdownAll() enter\n",
      "I1004 12:19:59.439406654    2402 executor.cc:142]            EXECUTOR (default-executor) SetThreading(0) begin\n",
      "I1004 12:19:59.439445214    2731 executor.cc:234]            EXECUTOR (default-executor) [0]: shutdown\n",
      "I1004 12:19:59.439474714    2402 executor.cc:187]            EXECUTOR (default-executor) Thread 1 of 1 joined\n",
      "I1004 12:19:59.439479024    2402 executor.cc:209]            EXECUTOR (default-executor) SetThreading(0) done\n",
      "I1004 12:19:59.439481134    2402 executor.cc:142]            EXECUTOR (resolver-executor) SetThreading(0) begin\n",
      "I1004 12:19:59.439509334    2732 executor.cc:234]            EXECUTOR (resolver-executor) [0]: shutdown\n",
      "I1004 12:19:59.439590084    2402 executor.cc:187]            EXECUTOR (resolver-executor) Thread 1 of 1 joined\n",
      "I1004 12:19:59.439594624    2402 executor.cc:209]            EXECUTOR (resolver-executor) SetThreading(0) done\n",
      "I1004 12:19:59.439596404    2402 executor.cc:426]            EXECUTOR Executor::ShutdownAll() done\n"
     ]
    }
   ],
   "source": [
    "a = Zz.load_firestore('zzz/zZz')"
   ]
  },
  {
   "cell_type": "code",
   "execution_count": 5,
   "metadata": {},
   "outputs": [
    {
     "data": {
      "text/plain": [
       "Zz(id='xx', ls=['xx', 'xxx'], d1=Dd(id='3r', ref='zzx/ass'), d2=[Dd(id='6r', ref='zzx/ass'), Dd(id='8r', ref='zzx/ass')])"
      ]
     },
     "execution_count": 5,
     "metadata": {},
     "output_type": "execute_result"
    }
   ],
   "source": [
    "a"
   ]
  },
  {
   "cell_type": "code",
   "execution_count": 81,
   "metadata": {},
   "outputs": [],
   "source": [
    "class T():\n",
    "\n",
    "    def __init__(self, val: str, **kw):\n",
    "        self._val = val\n",
    "        super().__init__(**kw)\n",
    "\n",
    "    @classmethod\n",
    "    def validate(cls, val):\n",
    "        return val\n",
    "\n",
    "    @classmethod\n",
    "    def __get_validators__(cls):\n",
    "        yield cls.validate    \n"
   ]
  },
  {
   "cell_type": "code",
   "execution_count": 119,
   "metadata": {},
   "outputs": [],
   "source": [
    "class FS(BaseModel):\n",
    "    \n",
    "    def reencode(self):\n",
    "\n",
    "        data = {}\n",
    "        src_dict = self.dict()\n",
    "        for key in src_dict.keys():\n",
    "\n",
    "            if issubclass(self.__fields__[key].type_, T):\n",
    "                data[key] = '!!!!'\n",
    "            elif issubclass(self.__fields__[key].type_, FS):\n",
    "                data[key] = getattr(self, key).reencode()\n",
    "            else:\n",
    "                data[key] = src_dict[key]\n",
    "\n",
    "        del src_dict\n",
    "        return data\n",
    "\n",
    "class TM0(FS):\n",
    "    a: T\n",
    "\n",
    "class TM(FS):\n",
    "    s: str\n",
    "    t: T\n",
    "    c: TM0\n"
   ]
  },
  {
   "cell_type": "code",
   "execution_count": 120,
   "metadata": {},
   "outputs": [],
   "source": [
    "tm = TM(s='we', t='dd', c={'a': 'ww'})"
   ]
  },
  {
   "cell_type": "code",
   "execution_count": 121,
   "metadata": {},
   "outputs": [
    {
     "data": {
      "text/plain": [
       "{'s': 'we', 't': '!!!!', 'c': {'a': '!!!!'}}"
      ]
     },
     "execution_count": 121,
     "metadata": {},
     "output_type": "execute_result"
    }
   ],
   "source": [
    "tm.reencode()"
   ]
  },
  {
   "cell_type": "code",
   "execution_count": 40,
   "metadata": {},
   "outputs": [],
   "source": [
    "class Test(BaseModel):\n",
    "    t1: str\n",
    "    t2: str = ''\n",
    "    t3: str = None\n",
    "    t4: str | None = ''\n",
    "    t5: str | None = None\n",
    "\n",
    "class Meta(BaseModel):\n",
    "    m1: str\n",
    "    m2: Test\n",
    "    m3: list[int|float]"
   ]
  },
  {
   "cell_type": "code",
   "execution_count": 41,
   "metadata": {},
   "outputs": [
    {
     "data": {
      "text/plain": [
       "{'m1': ModelField(name='m1', type=str, required=True),\n",
       " 'm2': ModelField(name='m2', type=Test, required=True),\n",
       " 'm3': ModelField(name='m3', type=List[Union[int, float]], required=True)}"
      ]
     },
     "execution_count": 41,
     "metadata": {},
     "output_type": "execute_result"
    }
   ],
   "source": [
    "mm = Meta(m1='mm', m2=tt, m3=[2,4,6])\n",
    "mm.__fields__"
   ]
  },
  {
   "cell_type": "code",
   "execution_count": 4,
   "metadata": {},
   "outputs": [
    {
     "data": {
      "text/plain": [
       "{'t1': ModelField(name='t1', type=str, required=True),\n",
       " 't2': ModelField(name='t2', type=str, required=False, default=''),\n",
       " 't3': ModelField(name='t3', type=Optional[str], required=False, default=None),\n",
       " 't4': ModelField(name='t4', type=Optional[str], required=False, default=''),\n",
       " 't5': ModelField(name='t5', type=Optional[str], required=False, default=None)}"
      ]
     },
     "execution_count": 4,
     "metadata": {},
     "output_type": "execute_result"
    }
   ],
   "source": [
    "tt = Test(t1='1q')\n",
    "\n",
    "tt.__fields__"
   ]
  },
  {
   "cell_type": "code",
   "execution_count": 25,
   "metadata": {},
   "outputs": [
    {
     "data": {
      "text/plain": [
       "ModelField(name='t1', type=str, required=True)"
      ]
     },
     "execution_count": 25,
     "metadata": {},
     "output_type": "execute_result"
    }
   ],
   "source": [
    "z = tt.__fields__['t1']\n",
    "z"
   ]
  },
  {
   "cell_type": "code",
   "execution_count": 31,
   "metadata": {},
   "outputs": [
    {
     "ename": "AttributeError",
     "evalue": "'str' object has no attribute 'mro'",
     "output_type": "error",
     "traceback": [
      "\u001b[0;31m---------------------------------------------------------------------------\u001b[0m",
      "\u001b[0;31mAttributeError\u001b[0m                            Traceback (most recent call last)",
      "\u001b[1;32m/workspace/datager/test/firestore.ipynb Cell 12\u001b[0m in \u001b[0;36m<cell line: 1>\u001b[0;34m()\u001b[0m\n\u001b[0;32m----> <a href='vscode-notebook-cell://ssh-remote%2B7b2275736572223a22736b79616e74707974686f6e616465702d61646570742d647865397a36793231696d222c22686f73744e616d65223a22736b79616e74707974686f6e616465702d61646570742d647865397a36793231696d2e7373682e77732d657536372e676974706f642e696f227d/workspace/datager/test/firestore.ipynb#X14sdnNjb2RlLXJlbW90ZQ%3D%3D?line=0'>1</a>\u001b[0m tt\u001b[39m.\u001b[39;49mt1\u001b[39m.\u001b[39;49mmro()\n",
      "\u001b[0;31mAttributeError\u001b[0m: 'str' object has no attribute 'mro'"
     ]
    }
   ],
   "source": [
    "tt.t1.mro()"
   ]
  }
 ],
 "metadata": {
  "kernelspec": {
   "display_name": "Python 3.10.6 64-bit",
   "language": "python",
   "name": "python3"
  },
  "language_info": {
   "codemirror_mode": {
    "name": "ipython",
    "version": 3
   },
   "file_extension": ".py",
   "mimetype": "text/x-python",
   "name": "python",
   "nbconvert_exporter": "python",
   "pygments_lexer": "ipython3",
   "version": "3.10.6"
  },
  "orig_nbformat": 4,
  "vscode": {
   "interpreter": {
    "hash": "949777d72b0d2535278d3dc13498b2535136f6dfe0678499012e853ee9abcab1"
   }
  }
 },
 "nbformat": 4,
 "nbformat_minor": 2
}
