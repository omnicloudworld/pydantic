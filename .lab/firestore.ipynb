{
 "cells": [
  {
   "cell_type": "code",
   "execution_count": 1,
   "metadata": {},
   "outputs": [],
   "source": [
    "from skyant.data.entity.google import Firestore\n",
    "from skyant.data.entity.fields import FirestoreRef\n",
    "\n",
    "class MyModel(Firestore):\n",
    "    id: str\n",
    "    ref: FirestoreRef\n",
    "\n",
    "my_data = MyModel(id='some id', ref='collection/doc/collection2/z6BlJhP19Q1nhq7MYcbC')\n",
    "\n",
    "my_data.save_firestore('collection/doc/collection2/plusRef')"
   ]
  },
  {
   "cell_type": "code",
   "execution_count": 2,
   "metadata": {},
   "outputs": [],
   "source": [
    "from skyant.data.entity.google import Firestore\n",
    "\n",
    "class MyModel(Firestore):\n",
    "    id: str\n",
    "    ref: FirestoreRef\n",
    "\n",
    "my_data1 = MyModel.load_firestore('collection/doc/collection2/plusRef')"
   ]
  },
  {
   "cell_type": "code",
   "execution_count": 4,
   "metadata": {},
   "outputs": [
    {
     "data": {
      "text/plain": [
       "'{\"id\": \"some id\", \"ref\": \"collection/doc/collection2/z6BlJhP19Q1nhq7MYcbC\"}'"
      ]
     },
     "execution_count": 4,
     "metadata": {},
     "output_type": "execute_result"
    }
   ],
   "source": [
    "my_data1.json()"
   ]
  }
 ],
 "metadata": {
  "kernelspec": {
   "display_name": "Python 3.10.5 ('dev': venv)",
   "language": "python",
   "name": "python3"
  },
  "language_info": {
   "codemirror_mode": {
    "name": "ipython",
    "version": 3
   },
   "file_extension": ".py",
   "mimetype": "text/x-python",
   "name": "python",
   "nbconvert_exporter": "python",
   "pygments_lexer": "ipython3",
   "version": "3.10.5"
  },
  "orig_nbformat": 4,
  "vscode": {
   "interpreter": {
    "hash": "43b42d07d062cc5a56abe760035412ea5bb9dcc072acc09456829866262b98e7"
   }
  }
 },
 "nbformat": 4,
 "nbformat_minor": 2
}
