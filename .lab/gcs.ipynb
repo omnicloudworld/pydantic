{
 "cells": [
  {
   "cell_type": "code",
   "execution_count": 2,
   "metadata": {},
   "outputs": [],
   "source": [
    "from skyant.data.entity.google import Blob\n",
    "\n",
    "class MyModel(Blob):\n",
    "    id: str\n",
    "    num: int\n",
    "\n",
    "my_data = MyModel(id='some-id', num=45)\n",
    "\n",
    "my_data.save_gcs('gs://your-bucket/my-data.json')\n",
    "my_data.save_gcs('gs://your-bucket/my-data.yaml')"
   ]
  },
  {
   "cell_type": "code",
   "execution_count": 3,
   "metadata": {},
   "outputs": [],
   "source": [
    "from skyant.data.entity.google import Blob\n",
    "\n",
    "class MyModel(Blob):\n",
    "    id: str\n",
    "    num: int\n",
    "    \n",
    "data_from_json = MyModel.load_gcs('gs://your-bucket/my-data.json')\n",
    "data_from_yaml = MyModel.load_gcs('gs://your-bucket/my-data.yaml')"
   ]
  }
 ],
 "metadata": {
  "kernelspec": {
   "display_name": "Python 3.10.5 ('dev': venv)",
   "language": "python",
   "name": "python3"
  },
  "language_info": {
   "codemirror_mode": {
    "name": "ipython",
    "version": 3
   },
   "file_extension": ".py",
   "mimetype": "text/x-python",
   "name": "python",
   "nbconvert_exporter": "python",
   "pygments_lexer": "ipython3",
   "version": "3.10.5"
  },
  "orig_nbformat": 4,
  "vscode": {
   "interpreter": {
    "hash": "43b42d07d062cc5a56abe760035412ea5bb9dcc072acc09456829866262b98e7"
   }
  }
 },
 "nbformat": 4,
 "nbformat_minor": 2
}
