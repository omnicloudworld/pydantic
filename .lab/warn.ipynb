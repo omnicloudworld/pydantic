{
 "cells": [
  {
   "cell_type": "code",
   "execution_count": 22,
   "metadata": {},
   "outputs": [],
   "source": [
    "from warnings import warn\n",
    "\n",
    "class FirestoreExists(Warning):\n",
    "    '''\n",
    "    An attempt to save the data if the corresponding document exists and overwrite is not allowed.\n",
    "    '''\n",
    "\n",
    "    def __init__(self, path: str, **kw):\n",
    "        self.path = path\n",
    "        self.message = f'The document {path} already exists and overwriting is not allowed!'\n",
    "        super().__init__(self.message, **kw)\n",
    "\n",
    "    def __call__(self):\n",
    "        warn(self)"
   ]
  },
  {
   "cell_type": "code",
   "execution_count": 25,
   "metadata": {},
   "outputs": [
    {
     "name": "stderr",
     "output_type": "stream",
     "text": [
      "/tmp/ipykernel_27925/2702975727.py:1: FirestoreExists: The document 32435 already exists and overwriting is not allowed!\n",
      "  warn('32435', FirestoreExists)\n"
     ]
    }
   ],
   "source": [
    "\n",
    "warn('32435', FirestoreExists)\n"
   ]
  }
 ],
 "metadata": {
  "kernelspec": {
   "display_name": "Python 3.10.5 ('dev': venv)",
   "language": "python",
   "name": "python3"
  },
  "language_info": {
   "codemirror_mode": {
    "name": "ipython",
    "version": 3
   },
   "file_extension": ".py",
   "mimetype": "text/x-python",
   "name": "python",
   "nbconvert_exporter": "python",
   "pygments_lexer": "ipython3",
   "version": "3.10.5"
  },
  "orig_nbformat": 4,
  "vscode": {
   "interpreter": {
    "hash": "8a70602e7d074bf131ebadbabe392c6fc2bc289938501117a26fbc72f9a0f3ac"
   }
  }
 },
 "nbformat": 4,
 "nbformat_minor": 2
}
